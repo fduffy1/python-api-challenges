{
 "cells": [
  {
   "cell_type": "markdown",
   "metadata": {},
   "source": [
    "# WeatherPy\n",
    "----\n",
    "\n",
    "#### Note\n",
    "* Instructions have been included for each segment. You do not have to follow them exactly, but they are included to help you think through the steps."
   ]
  },
  {
   "cell_type": "code",
   "execution_count": 29,
   "metadata": {
    "scrolled": true
   },
   "outputs": [],
   "source": [
    "# Dependencies\n",
    "import json\n",
    "from scipy import stats\n",
    "import requests\n",
    "import pandas as pd\n",
    "import matplotlib.pyplot as plt\n",
    "import numpy as np\n",
    "from citipy import citipy\n",
    "from pprint import pprint\n",
    "\n",
    "from api_keys import weather_api_key\n",
    "\n",
    "lat_range = (-90, 90)\n",
    "lng_range = (-180, 180)"
   ]
  },
  {
   "cell_type": "markdown",
   "metadata": {},
   "source": [
    "## Generate Cities List"
   ]
  },
  {
   "cell_type": "code",
   "execution_count": 2,
   "metadata": {},
   "outputs": [
    {
     "name": "stdout",
     "output_type": "stream",
     "text": [
      "['yellowknife', 'mataura', 'hamilton', 'camacha', 'atuona', 'chokurdakh', 'saskylakh', 'vila', 'lebu', 'touros', 'taolanaro', 'sentyabrskiy', 'carnarvon', 'ushuaia', 'tecoanapa', 'albany', 'cidreira', 'coquimbo', 'hermanus', 'bolshaya murta', 'caravelas', 'alcains', 'saint-philippe', 'tiksi', 'toumodi', 'nyurba', 'torbay', 'butaritari', 'sisimiut', 'padang', 'port alfred', 'gobabis', 'shimoda', 'markova', 'chamonix-mont-blanc', 'port augusta', 'bredasdorp', 'bluff', 'khatanga', 'qaanaaq', 'ahuimanu', 'ucluelet', 'petropavlovsk-kamchatskiy', 'jamestown', 'grindavik', 'iwanai', 'dikson', 'rikitea', 'ust-abakan', 'nikolskoye', 'norman wells', 'ijaki', 'lima duarte', 'barrow', 'nabire', 'vaini', 'busselton', 'souillac', 'baykit', 'illoqqortoormiut', 'mar del plata', 'vila franca do campo', 'mys shmidta', 'belushya guba', 'castro', 'churapcha', 'pangani', 'kavieng', 'ahipara', 'coihaique', 'cockburn town', 'bethel', 'amberley', 'kelowna', 'pisco', 'hobyo', 'umea', 'kodiak', 'haines city', 'polunochnoye', 'saint anthony', 'new norfolk', 'hilo', 'lakes entrance', 'morgan city', 'saleaula', 'cape town', 'sao joao da barra', 'durazno', 'hofn', 'tuktoyaktuk', 'ambilobe', 'palembang', 'holt', 'wenling', 'hobart', 'bandar', 'kinston', 'dabhol', 'muleba', 'varhaug', 'longyearbyen', 'caruray', 'mahebourg', 'bambous virieux', 'sakaraha', 'barentsburg', 'maiduguri', 'kadyy', 'waddan', 'mazatlan', 'ribeira grande', 'cabinda', 'iqaluit', 'los llanos de aridane', 'juifang', 'shuya', 'deputatskiy', 'broome', 'formoso do araguaia', 'laguna', 'upernavik', 'todos santos', 'punta arenas', 'nizhneyansk', 'opobo', 'tochio', 'tilichiki', 'maykain', 'manoel urbano', 'ciudad bolivar', 'pangnirtung', 'lufilufi', 'quatre cocos', 'nueva guinea', 'maldonado', 'portland', 'hambantota', 'santa luzia', 'hithadhoo', 'isangel', 'salaga', 'manzil jamil', 'nampula', 'bengkulu', 'chara', 'acapulco', 'bismarck', 'tuatapere', 'kahului', 'terrace', 'puerto ayora', 'constitucion', 'faanui', 'itambe', 'naze', 'yabrud', 'bluefield', 'cabo san lucas', 'amderma', 'ulaangom', 'ancud', 'nara', 'lagoa', 'tateyama', 'luderitz', 'katsuura', 'marcona', 'salalah', 'alice springs', 'aklavik', 'saldanha', 'kaitangata', 'provideniya', 'asfi', 'montepuez', 'kieta', 'dunmore east', 'muros', 'antofagasta', 'saint-augustin', 'lahij', 'pangai', 'nantucket', 'jacareacanga', 'babstovo', 'georgetown', 'yirol', 'sona', 'basco', 'shache', 'husavik', 'namatanai', 'esil', 'geraldton', 'kijang', 'bilibino', 'leh', 'airai', 'fortuna', 'shingu', 'chuy', 'kristiansund', 'victor harbor', 'natitingou', 'saraj', 'te anau', 'tumannyy', 'sakakah', 'hovd', 'sechura', 'teahupoo', 'kuusamo', 'arlit', 'cherskiy', 'lompoc', 'awjilah', 'east london', 'marsh harbour', 'eufaula', 'poum', 'margate', 'beidao', 'ruteng', 'kenai', 'ha tinh', 'bandarbeyla', 'moron', 'porto novo', 'rungata', 'klaksvik', 'yar-sale', 'wajir', 'cayenne', 'lipari', 'zyryanka', 'mount isa', 'zanatepec', 'ayame', 'kapaa', 'ciudad real', 'lishan', 'tessalit', 'sehithwa', 'uyuni', 'bad wurzach', 'comodoro rivadavia', 'severo-kurilsk', 'tarko-sale', 'mount gambier', 'louisbourg', 'toliary', 'asau', 'ozgon', 'brae', 'port hardy', 'arraial do cabo', 'qianan', 'north platte', 'dudinka', 'vestmanna', 'saint george', 'kesennuma', 'avarua', 'manzhouli', 'ketchikan', 'boende', 'saquarema', 'sinegorye', 'rypefjord', 'vaitupu', 'grand river south east', 'sao borja', 'nishihara', 'grivenskaya', 'oum hadjer', 'carai', 'khonuu', 'westport', 'batagay-alyta', 'clyde river', 'nanortalik', 'korla', 'umm durman', 'vanimo', 'karaul', 'youhao', 'nguiu', 'san patricio', 'seoul', 'nerja', 'terney', 'plettenberg bay', 'port elizabeth', 'anadyr', 'kamenskoye', 'kulachi', 'morondava', 'bodden town', 'talnakh', 'fort nelson', 'tsihombe', 'carthage', 'mocambique', 'ulagan', 'vardo', 'asyut', 'colesberg', 'matadi', 'pokhara', 'byron bay', 'leningradskiy', 'safaga', 'odweyne', 'whitehorse', 'grimshaw', 'maniitsoq', 'khagaul', 'labrea', 'presidente medici', 'abu dhabi', 'kollam', 'komsomolskiy', 'cacu', 'smithers', 'umzimvubu', 'guanare', 'kano', 'sapao', 'alta floresta', 'maraba', 'oranjemund', 'piacabucu', 'at-bashi', 'riberalta', 'paamiut', 'narsaq', 'belgrade', 'nelson bay', 'sitka', 'harrisonville', 'san quintin', 'lata', 'dumas', 'srandakan', 'palmer', 'arki', 'glendive', 'rawson', 'harper', 'buraydah', 'mwinilunga', 'shimanovsk', 'moguer', 'thompson', 'yulara', 'esperance', 'muskegon', 'trinidad', 'mapiripan', 'pouembout', 'karlskoga', 'talara', 'saint-pierre', 'campbell river', 'loreto', 'kadykchan', 'srednekolymsk', 'concordia', 'kharp', 'chipinge', 'port angeles', 'rio gallegos', 'kruisfontein', 'sumenep', 'tingi', 'atasu', 'zhigansk', 'chernushka', 'mastic beach', 'jucurutu', 'sumisip', 'poli', 'kloulklubed', 'camana', 'tasbuget', 'krasnovka', 'rosarito', 'lachhmangarh', 'halalo', 'gerga', 'dingzhou', 'ibra', 'ganserndorf', 'burnie', 'akhisar', 'beyneu', 'alcudia', 'port hawkesbury', 'port lincoln', 'owando', 'san cristobal', 'kavaratti', 'victoria', 'ondorhaan', 'chapais', 'igarka', 'omemee', 'ozubulu', 'moravsky krumlov', 'redlands', 'menongue', 'nuuk', 'powell', 'yarada', 'leeton', 'gamba', 'port-cartier', 'flinders', 'richard toll', 'qesarya', 'tosya', 'vung tau', 'mersing', 'satun', 'vredendal', 'praia', 'koboldo', 'puerto el triunfo', 'sivaki', 'borogontsy', 'urengoy', 'pangody', 'ngama', 'birjand', 'sangar', 'sao filipe', 'kudahuvadhoo', 'puerto rico', 'warwick', 'faya', 'yumen', 'ipixuna', 'ewa beach', 'tasiilaq', 'sorland', 'biankouma', 'sinnamary', 'dwarka', 'clifton', 'yaring', 'bargal', 'naushki', 'konza', 'curup', 'cuamba', 'les ponts-de-ce', 'dakar', 'beloha', 'lethem', 'minamata', 'ust-maya', 'mergui', 'sibolga', 'ypsonas', 'ballina', 'kaeo', 'chagda', 'meuselwitz', 'takoradi', 'itaobim', 'kutum', 'santiago', 'berlevag', 'pacific grove', 'pevek', 'samarai', 'bilma', 'fuyang', 'amboise', 'lincoln', 'satitoa', 'olafsvik', 'nakamura', 'chemin grenier', 'itoman', 'eldikan', 'prince rupert', 'ardakan', 'vreed en hoop', 'bonavista', 'minab', 'tizimin', 'fayaoue', 'dennery', 'cururupu', 'cairns', 'carutapera', 'nemuro', 'meulaboh', 'tuscaloosa', 'acarau', 'dawei', 'makinsk', 'inuvik', 'filingue', 'tiznit', 'joshimath', 'nome', 'le port', 'sur', 'djambala', 'qasigiannguit', 'gat', 'severo-yeniseyskiy', 'half moon bay', 'tshikapa', 'torata', 'ilulissat', 'suluova', 'laichingen', 'warqla', 'ixtapa', 'biharamulo', 'santa isabel do rio negro', 'kincardine', 'ossora', 'mayo', 'crestview', 'alpena', 'port-gentil', 'nola', 'malakisi', 'lewisporte', 'tabou', 'viedma', 'nouadhibou', 'kainantu', 'naila', 'tura', 'skibbereen', 'tokur', 'kualakapuas', 'gigmoto', 'horsham', 'labuhan', 'honningsvag', 'monteagudo', 'goreloye', 'xining', 'atar', 'birao', 'alekseyevka', 'oktyabrskoye', 'la palma', 'kargasok', 'alofi', 'kunnamangalam', 'akyab', 'tomatlan', 'ambanja', 'aksarka', 'dingle', 'ngukurr', 'jalu', 'havoysund', 'avera', 'pemangkat', 'oyama', 'leua', 'peleduy', 'bur gabo', 'dunedin', 'isla mujeres', 'attawapiskat', 'makokou', 'lorengau', 'sinop', 'ostersund', 'kailua', 'nazarovo', 'tabiauea', 'porto velho', 'freeport', 'chinchani', 'port hedland', 'natal', 'praia da vitoria', 'pasighat', 'sao sepe', 'neftcala', 'zharkent', 'hualmay', 'matamoros', 'bardiyah', 'portage', 'monreale', 'antalaha', 'ponta do sol', 'san vicente', 'huancavelica', 'pontes e lacerda', 'sayyan', 'kirkland lake', 'namibe', 'sambava', 'hellvik', 'ituni', 'lalmohan', 'houma', 'svobodnyy', 'maumere', 'rantepao', 'usakos', 'paradwip', 'pimentel', 'dera gopipur', 'payo', 'karratha', 'goderich', 'machico', 'jiddah', 'ternate', 'vestmannaeyjar', 'turangi']\n"
     ]
    }
   ],
   "source": [
    "lats = np.random.uniform(lat_range[0],lat_range[1],size=1500)\n",
    "lngs = np.random.uniform(lng_range[0],lng_range[1],size=1500)\n",
    "coordinates = zip(lats,lngs)\n",
    "cities = []\n",
    "for coord in coordinates : \n",
    "    city = citipy.nearest_city(coord[0],coord[1]).city_name\n",
    "    if city not in cities:\n",
    "        cities.append(city)\n",
    "print (cities)"
   ]
  },
  {
   "cell_type": "code",
   "execution_count": 3,
   "metadata": {},
   "outputs": [
    {
     "data": {
      "text/plain": [
       "625"
      ]
     },
     "execution_count": 3,
     "metadata": {},
     "output_type": "execute_result"
    }
   ],
   "source": [
    "len(cities)"
   ]
  },
  {
   "cell_type": "markdown",
   "metadata": {},
   "source": [
    "### Perform API Calls\n",
    "* Perform a weather check on each city using a series of successive API calls.\n",
    "* Include a print log of each city as it'sbeing processed (with the city number and city name).\n"
   ]
  },
  {
   "cell_type": "code",
   "execution_count": 13,
   "metadata": {
    "scrolled": false
   },
   "outputs": [
    {
     "name": "stdout",
     "output_type": "stream",
     "text": [
      "0: yellowknife added\n",
      "1: mataura added\n",
      "2: hamilton added\n",
      "3: camacha added\n",
      "4: atuona added\n",
      "5: chokurdakh added\n",
      "6: saskylakh added\n",
      "7: vila added\n",
      "8: lebu added\n",
      "9: touros added\n",
      "10: taolanaro not found\n",
      "11: sentyabrskiy not found\n",
      "12: carnarvon added\n",
      "13: ushuaia added\n",
      "14: tecoanapa added\n",
      "15: albany added\n",
      "16: cidreira added\n",
      "17: coquimbo added\n",
      "18: hermanus added\n",
      "19: bolshaya murta not found\n",
      "20: caravelas added\n",
      "21: alcains added\n",
      "22: saint-philippe added\n",
      "23: tiksi added\n",
      "24: toumodi added\n",
      "25: nyurba added\n",
      "26: torbay added\n",
      "27: butaritari added\n",
      "28: sisimiut added\n",
      "29: padang added\n",
      "30: port alfred added\n",
      "31: gobabis added\n",
      "32: shimoda added\n",
      "33: markova added\n",
      "34: chamonix-mont-blanc added\n",
      "35: port augusta added\n",
      "36: bredasdorp added\n",
      "37: bluff added\n",
      "38: khatanga added\n",
      "39: qaanaaq added\n",
      "40: ahuimanu added\n",
      "41: ucluelet added\n",
      "42: petropavlovsk-kamchatskiy added\n",
      "43: jamestown added\n",
      "44: grindavik added\n",
      "45: iwanai added\n",
      "46: dikson added\n",
      "47: rikitea added\n",
      "48: ust-abakan added\n",
      "49: nikolskoye added\n",
      "50: norman wells added\n",
      "51: ijaki not found\n",
      "52: lima duarte added\n",
      "53: barrow added\n",
      "54: nabire added\n",
      "55: vaini added\n",
      "56: busselton added\n",
      "57: souillac added\n",
      "58: baykit added\n",
      "59: illoqqortoormiut not found\n",
      "60: mar del plata added\n",
      "61: vila franca do campo added\n",
      "62: mys shmidta not found\n",
      "63: belushya guba not found\n",
      "64: castro added\n",
      "65: churapcha added\n",
      "66: pangani added\n",
      "67: kavieng added\n",
      "68: ahipara added\n",
      "69: coihaique added\n",
      "70: cockburn town added\n",
      "71: bethel added\n",
      "72: amberley added\n",
      "73: kelowna added\n",
      "74: pisco added\n",
      "75: hobyo added\n",
      "76: umea added\n",
      "77: kodiak added\n",
      "78: haines city added\n",
      "79: polunochnoye added\n",
      "80: saint anthony added\n",
      "81: new norfolk added\n",
      "82: hilo added\n",
      "83: lakes entrance added\n",
      "84: morgan city added\n",
      "85: saleaula not found\n",
      "86: cape town added\n",
      "87: sao joao da barra added\n",
      "88: durazno added\n",
      "89: hofn added\n",
      "90: tuktoyaktuk added\n",
      "91: ambilobe added\n",
      "92: palembang added\n",
      "93: holt added\n",
      "94: wenling added\n",
      "95: hobart added\n",
      "96: bandar added\n",
      "97: kinston added\n",
      "98: dabhol added\n",
      "99: muleba added\n",
      "100: varhaug added\n",
      "101: longyearbyen added\n",
      "102: caruray added\n",
      "103: mahebourg added\n",
      "104: bambous virieux added\n",
      "105: sakaraha added\n",
      "106: barentsburg not found\n",
      "107: maiduguri added\n",
      "108: kadyy added\n",
      "109: waddan added\n",
      "110: mazatlan added\n",
      "111: ribeira grande added\n",
      "112: cabinda added\n",
      "113: iqaluit added\n",
      "114: los llanos de aridane added\n",
      "115: juifang not found\n",
      "116: shuya added\n",
      "117: deputatskiy added\n",
      "118: broome added\n",
      "119: formoso do araguaia not found\n",
      "120: laguna added\n",
      "121: upernavik added\n",
      "122: todos santos added\n",
      "123: punta arenas added\n",
      "124: nizhneyansk not found\n",
      "125: opobo not found\n",
      "126: tochio added\n",
      "127: tilichiki added\n",
      "128: maykain not found\n",
      "129: manoel urbano added\n",
      "130: ciudad bolivar added\n",
      "131: pangnirtung added\n",
      "132: lufilufi added\n",
      "133: quatre cocos added\n",
      "134: nueva guinea added\n",
      "135: maldonado added\n",
      "136: portland added\n",
      "137: hambantota added\n",
      "138: santa luzia added\n",
      "139: hithadhoo added\n",
      "140: isangel added\n",
      "141: salaga added\n",
      "142: manzil jamil not found\n",
      "143: nampula added\n",
      "144: bengkulu added\n",
      "145: chara added\n",
      "146: acapulco added\n",
      "147: bismarck added\n",
      "148: tuatapere added\n",
      "149: kahului added\n",
      "150: terrace added\n",
      "151: puerto ayora added\n",
      "152: constitucion added\n",
      "153: faanui added\n",
      "154: itambe added\n",
      "155: naze added\n",
      "156: yabrud added\n",
      "157: bluefield added\n",
      "158: cabo san lucas added\n",
      "159: amderma not found\n",
      "160: ulaangom added\n",
      "161: ancud added\n",
      "162: nara added\n",
      "163: lagoa added\n",
      "164: tateyama added\n",
      "165: luderitz added\n",
      "166: katsuura added\n",
      "167: marcona not found\n",
      "168: salalah added\n",
      "169: alice springs added\n",
      "170: aklavik added\n",
      "171: saldanha added\n",
      "172: kaitangata added\n",
      "173: provideniya added\n",
      "174: asfi added\n",
      "175: montepuez added\n",
      "176: kieta added\n",
      "177: dunmore east added\n",
      "178: muros added\n",
      "179: antofagasta added\n",
      "180: saint-augustin added\n",
      "181: lahij added\n",
      "182: pangai added\n",
      "183: nantucket added\n",
      "184: jacareacanga added\n",
      "185: babstovo added\n",
      "186: georgetown added\n",
      "187: yirol not found\n",
      "188: sona added\n",
      "189: basco added\n",
      "190: shache added\n",
      "191: husavik added\n",
      "192: namatanai added\n",
      "193: esil added\n",
      "194: geraldton added\n",
      "195: kijang added\n",
      "196: bilibino added\n",
      "197: leh added\n",
      "198: airai added\n",
      "199: fortuna added\n",
      "200: shingu added\n",
      "201: chuy added\n",
      "202: kristiansund added\n",
      "203: victor harbor added\n",
      "204: natitingou added\n",
      "205: saraj added\n",
      "206: te anau added\n",
      "207: tumannyy not found\n",
      "208: sakakah added\n",
      "209: hovd added\n",
      "210: sechura added\n",
      "211: teahupoo added\n",
      "212: kuusamo added\n",
      "213: arlit added\n",
      "214: cherskiy added\n",
      "215: lompoc added\n",
      "216: awjilah added\n",
      "217: east london added\n",
      "218: marsh harbour added\n",
      "219: eufaula added\n",
      "220: poum added\n",
      "221: margate added\n",
      "222: beidao added\n",
      "223: ruteng added\n",
      "224: kenai added\n",
      "225: ha tinh added\n",
      "226: bandarbeyla added\n",
      "227: moron added\n",
      "228: porto novo added\n",
      "229: rungata not found\n",
      "230: klaksvik added\n",
      "231: yar-sale added\n",
      "232: wajir added\n",
      "233: cayenne added\n",
      "234: lipari added\n",
      "235: zyryanka added\n",
      "236: mount isa added\n",
      "237: zanatepec not found\n",
      "238: ayame added\n",
      "239: kapaa added\n",
      "240: ciudad real added\n",
      "241: lishan added\n",
      "242: tessalit added\n",
      "243: sehithwa added\n",
      "244: uyuni added\n",
      "245: bad wurzach added\n",
      "246: comodoro rivadavia added\n",
      "247: severo-kurilsk added\n",
      "248: tarko-sale added\n",
      "249: mount gambier added\n",
      "250: louisbourg not found\n",
      "251: toliary not found\n",
      "252: asau added\n",
      "253: ozgon not found\n",
      "254: brae added\n",
      "255: port hardy added\n",
      "256: arraial do cabo added\n",
      "257: qianan added\n",
      "258: north platte added\n",
      "259: dudinka added\n",
      "260: vestmanna added\n",
      "261: saint george added\n",
      "262: kesennuma not found\n",
      "263: avarua added\n",
      "264: manzhouli added\n",
      "265: ketchikan added\n",
      "266: boende added\n",
      "267: saquarema added\n",
      "268: sinegorye added\n",
      "269: rypefjord added\n",
      "270: vaitupu not found\n",
      "271: grand river south east not found\n",
      "272: sao borja added\n",
      "273: nishihara added\n",
      "274: grivenskaya added\n",
      "275: oum hadjer added\n",
      "276: carai added\n",
      "277: khonuu not found\n",
      "278: westport added\n",
      "279: batagay-alyta added\n",
      "280: clyde river added\n",
      "281: nanortalik added\n",
      "282: korla added\n",
      "283: umm durman not found\n",
      "284: vanimo added\n",
      "285: karaul not found\n",
      "286: youhao added\n",
      "287: nguiu not found\n",
      "288: san patricio added\n",
      "289: seoul added\n",
      "290: nerja added\n",
      "291: terney added\n",
      "292: plettenberg bay added\n",
      "293: port elizabeth added\n",
      "294: anadyr added\n",
      "295: kamenskoye not found\n",
      "296: kulachi added\n",
      "297: morondava added\n",
      "298: bodden town added\n",
      "299: talnakh added\n",
      "300: fort nelson added\n",
      "301: tsihombe not found\n",
      "302: carthage added\n",
      "303: mocambique not found\n",
      "304: ulagan added\n",
      "305: vardo added\n",
      "306: asyut added\n",
      "307: colesberg added\n",
      "308: matadi added\n",
      "309: pokhara added\n",
      "310: byron bay added\n",
      "311: leningradskiy added\n",
      "312: safaga added\n",
      "313: odweyne added\n",
      "314: whitehorse added\n",
      "315: grimshaw added\n",
      "316: maniitsoq added\n",
      "317: khagaul added\n",
      "318: labrea added\n",
      "319: presidente medici added\n",
      "320: abu dhabi added\n",
      "321: kollam added\n",
      "322: komsomolskiy added\n",
      "323: cacu added\n",
      "324: smithers added\n",
      "325: umzimvubu not found\n",
      "326: guanare added\n",
      "327: kano added\n",
      "328: sapao not found\n",
      "329: alta floresta added\n",
      "330: maraba added\n",
      "331: oranjemund added\n",
      "332: piacabucu added\n",
      "333: at-bashi added\n",
      "334: riberalta added\n",
      "335: paamiut added\n",
      "336: narsaq added\n",
      "337: belgrade added\n",
      "338: nelson bay added\n",
      "339: sitka added\n",
      "340: harrisonville added\n",
      "341: san quintin added\n",
      "342: lata added\n",
      "343: dumas added\n",
      "344: srandakan added\n",
      "345: palmer added\n",
      "346: arki added\n",
      "347: glendive added\n",
      "348: rawson added\n",
      "349: harper added\n",
      "350: buraydah added\n",
      "351: mwinilunga added\n",
      "352: shimanovsk added\n",
      "353: moguer added\n",
      "354: thompson added\n",
      "355: yulara added\n",
      "356: esperance added\n",
      "357: muskegon added\n",
      "358: trinidad added\n",
      "359: mapiripan added\n",
      "360: pouembout added\n",
      "361: karlskoga added\n",
      "362: talara added\n",
      "363: saint-pierre added\n",
      "364: campbell river added\n",
      "365: loreto added\n",
      "366: kadykchan not found\n",
      "367: srednekolymsk added\n",
      "368: concordia added\n",
      "369: kharp added\n",
      "370: chipinge added\n",
      "371: port angeles added\n",
      "372: rio gallegos added\n",
      "373: kruisfontein added\n",
      "374: sumenep added\n",
      "375: tingi added\n",
      "376: atasu added\n",
      "377: zhigansk added\n",
      "378: chernushka added\n",
      "379: mastic beach added\n",
      "380: jucurutu added\n",
      "381: sumisip added\n",
      "382: poli added\n",
      "383: kloulklubed added\n",
      "384: camana added\n",
      "385: tasbuget not found\n",
      "386: krasnovka added\n",
      "387: rosarito added\n",
      "388: lachhmangarh added\n",
      "389: halalo not found\n",
      "390: gerga added\n",
      "391: dingzhou added\n",
      "392: ibra added\n",
      "393: ganserndorf added\n",
      "394: burnie added\n",
      "395: akhisar added\n",
      "396: beyneu added\n",
      "397: alcudia added\n",
      "398: port hawkesbury added\n",
      "399: port lincoln added\n"
     ]
    },
    {
     "name": "stdout",
     "output_type": "stream",
     "text": [
      "400: owando added\n",
      "401: san cristobal added\n",
      "402: kavaratti added\n",
      "403: victoria added\n",
      "404: ondorhaan not found\n",
      "405: chapais added\n",
      "406: igarka added\n",
      "407: omemee added\n",
      "408: ozubulu added\n",
      "409: moravsky krumlov added\n",
      "410: redlands added\n",
      "411: menongue added\n",
      "412: nuuk added\n",
      "413: powell added\n",
      "414: yarada added\n",
      "415: leeton added\n",
      "416: gamba added\n",
      "417: port-cartier added\n",
      "418: flinders added\n",
      "419: richard toll not found\n",
      "420: qesarya added\n",
      "421: tosya added\n",
      "422: vung tau added\n",
      "423: mersing added\n",
      "424: satun added\n",
      "425: vredendal added\n",
      "426: praia added\n",
      "427: koboldo not found\n",
      "428: puerto el triunfo added\n",
      "429: sivaki added\n",
      "430: borogontsy added\n",
      "431: urengoy added\n",
      "432: pangody added\n",
      "433: ngama added\n",
      "434: birjand added\n",
      "435: sangar added\n",
      "436: sao filipe added\n",
      "437: kudahuvadhoo added\n",
      "438: puerto rico added\n",
      "439: warwick added\n",
      "440: faya added\n",
      "441: yumen added\n",
      "442: ipixuna added\n",
      "443: ewa beach added\n",
      "444: tasiilaq added\n",
      "445: sorland added\n",
      "446: biankouma added\n",
      "447: sinnamary added\n",
      "448: dwarka added\n",
      "449: clifton added\n",
      "450: yaring added\n",
      "451: bargal not found\n",
      "452: naushki added\n",
      "453: konza added\n",
      "454: curup added\n",
      "455: cuamba added\n",
      "456: les ponts-de-ce added\n",
      "457: dakar added\n",
      "458: beloha added\n",
      "459: lethem added\n",
      "460: minamata added\n",
      "461: ust-maya added\n",
      "462: mergui not found\n",
      "463: sibolga added\n",
      "464: ypsonas added\n",
      "465: ballina added\n",
      "466: kaeo added\n",
      "467: chagda not found\n",
      "468: meuselwitz added\n",
      "469: takoradi added\n",
      "470: itaobim added\n",
      "471: kutum added\n",
      "472: santiago added\n",
      "473: berlevag added\n",
      "474: pacific grove added\n",
      "475: pevek added\n",
      "476: samarai added\n",
      "477: bilma added\n",
      "478: fuyang added\n",
      "479: amboise added\n",
      "480: lincoln added\n",
      "481: satitoa not found\n",
      "482: olafsvik added\n",
      "483: nakamura added\n",
      "484: chemin grenier added\n",
      "485: itoman added\n",
      "486: eldikan not found\n",
      "487: prince rupert added\n",
      "488: ardakan added\n",
      "489: vreed en hoop not found\n",
      "490: bonavista added\n",
      "491: minab added\n",
      "492: tizimin added\n",
      "493: fayaoue added\n",
      "494: dennery added\n",
      "495: cururupu added\n",
      "496: cairns added\n",
      "497: carutapera added\n",
      "498: nemuro added\n",
      "499: meulaboh added\n",
      "500: tuscaloosa added\n",
      "501: acarau added\n",
      "502: dawei added\n",
      "503: makinsk added\n",
      "504: inuvik added\n",
      "505: filingue added\n",
      "506: tiznit added\n",
      "507: joshimath added\n",
      "508: nome added\n",
      "509: le port added\n",
      "510: sur added\n",
      "511: djambala added\n",
      "512: qasigiannguit added\n",
      "513: gat added\n",
      "514: severo-yeniseyskiy added\n",
      "515: half moon bay added\n",
      "516: tshikapa added\n",
      "517: torata added\n",
      "518: ilulissat added\n",
      "519: suluova added\n",
      "520: laichingen added\n",
      "521: warqla not found\n",
      "522: ixtapa added\n",
      "523: biharamulo added\n",
      "524: santa isabel do rio negro added\n",
      "525: kincardine added\n",
      "526: ossora added\n",
      "527: mayo added\n",
      "528: crestview added\n",
      "529: alpena added\n",
      "530: port-gentil added\n",
      "531: nola added\n",
      "532: malakisi not found\n",
      "533: lewisporte added\n",
      "534: tabou added\n",
      "535: viedma added\n",
      "536: nouadhibou added\n",
      "537: kainantu added\n",
      "538: naila added\n",
      "539: tura added\n",
      "540: skibbereen added\n",
      "541: tokur added\n",
      "542: kualakapuas added\n",
      "543: gigmoto added\n",
      "544: horsham added\n",
      "545: labuhan added\n",
      "546: honningsvag added\n",
      "547: monteagudo added\n",
      "548: goreloye added\n",
      "549: xining added\n",
      "550: atar added\n",
      "551: birao added\n",
      "552: alekseyevka added\n",
      "553: oktyabrskoye added\n",
      "554: la palma added\n",
      "555: kargasok added\n",
      "556: alofi added\n",
      "557: kunnamangalam added\n",
      "558: akyab added\n",
      "559: tomatlan added\n",
      "560: ambanja added\n",
      "561: aksarka added\n",
      "562: dingle added\n",
      "563: ngukurr not found\n",
      "564: jalu added\n",
      "565: havoysund added\n",
      "566: avera added\n",
      "567: pemangkat added\n",
      "568: oyama added\n",
      "569: leua added\n",
      "570: peleduy added\n",
      "571: bur gabo not found\n",
      "572: dunedin added\n",
      "573: isla mujeres added\n",
      "574: attawapiskat not found\n",
      "575: makokou added\n",
      "576: lorengau added\n",
      "577: sinop added\n",
      "578: ostersund added\n",
      "579: kailua added\n",
      "580: nazarovo added\n",
      "581: tabiauea not found\n",
      "582: porto velho added\n",
      "583: freeport added\n",
      "584: chinchani added\n",
      "585: port hedland added\n",
      "586: natal added\n",
      "587: praia da vitoria added\n",
      "588: pasighat added\n",
      "589: sao sepe added\n",
      "590: neftcala added\n",
      "591: zharkent added\n",
      "592: hualmay added\n",
      "593: matamoros added\n",
      "594: bardiyah added\n",
      "595: portage added\n",
      "596: monreale added\n",
      "597: antalaha added\n",
      "598: ponta do sol added\n",
      "599: san vicente added\n",
      "600: huancavelica added\n",
      "601: pontes e lacerda added\n",
      "602: sayyan added\n",
      "603: kirkland lake added\n",
      "604: namibe added\n",
      "605: sambava added\n",
      "606: hellvik added\n",
      "607: ituni not found\n",
      "608: lalmohan added\n",
      "609: houma added\n",
      "610: svobodnyy added\n",
      "611: maumere added\n",
      "612: rantepao added\n",
      "613: usakos added\n",
      "614: paradwip not found\n",
      "615: pimentel added\n",
      "616: dera gopipur added\n",
      "617: payo added\n",
      "618: karratha added\n",
      "619: goderich added\n",
      "620: machico added\n",
      "621: jiddah not found\n",
      "622: ternate added\n",
      "623: vestmannaeyjar added\n",
      "624: turangi added\n"
     ]
    }
   ],
   "source": [
    "url = \"http://api.openweathermap.org/data/2.5/weather?\"\n",
    "units = \"imperial\"\n",
    "query_url = f\"{url}appid={weather_api_key}&units={units}&q=\"\n",
    "\n",
    "city_objects = []\n",
    "for idx,city in enumerate (cities): \n",
    "    full_url = query_url + city\n",
    "    try : \n",
    "        city_response = requests.get(full_url).json()\n",
    "        c_lat = city_response[\"coord\"][\"lat\"]\n",
    "        c_lng = city_response[\"coord\"][\"lon\"]\n",
    "        temp = city_response[\"main\"][\"temp_max\"]\n",
    "        hum = city_response[\"main\"][\"humidity\"] \n",
    "        clouds = city_response[\"clouds\"][\"all\"]\n",
    "        wnd = city_response[\"wind\"][\"speed\"]\n",
    "        cntry = city_response[\"sys\"][\"country\"]\n",
    "        date = city_response[\"dt\"]\n",
    "        city_objects.append({\"city\":city,\"lat\":c_lat,\"lng\":c_lng,\"Max Temp\":temp,\n",
    "                             \"Humidity\":hum,\"Cloudiness\":clouds,\"Wind Speed\":wnd,\n",
    "                             \"Country\":cntry,\"Date\":date})\n",
    "        \n",
    "        print (f\"{str(idx)}: {city} added\")\n",
    "      \n",
    " \n",
    "    except : \n",
    "        print (f\"{idx}: {city} not found\")\n",
    "        pass "
   ]
  },
  {
   "cell_type": "code",
   "execution_count": null,
   "metadata": {},
   "outputs": [],
   "source": []
  },
  {
   "cell_type": "code",
   "execution_count": 15,
   "metadata": {},
   "outputs": [
    {
     "data": {
      "text/plain": [
       "city          568\n",
       "lat           568\n",
       "lng           568\n",
       "Max Temp      568\n",
       "Humidity      568\n",
       "Cloudiness    568\n",
       "Wind Speed    568\n",
       "Country       568\n",
       "Date          568\n",
       "dtype: int64"
      ]
     },
     "execution_count": 15,
     "metadata": {},
     "output_type": "execute_result"
    }
   ],
   "source": [
    "city_df = pd.DataFrame(city_objects)\n",
    "city_df.count()"
   ]
  },
  {
   "cell_type": "markdown",
   "metadata": {},
   "source": [
    "### Convert Raw Data to DataFrame\n",
    "* Export the city data into a .csv.\n",
    "* Display the DataFrame"
   ]
  },
  {
   "cell_type": "code",
   "execution_count": 16,
   "metadata": {},
   "outputs": [],
   "source": [
    "city_df.to_csv(\"new_cities.csv\",index_label=\"city_id\")"
   ]
  },
  {
   "cell_type": "code",
   "execution_count": 17,
   "metadata": {},
   "outputs": [
    {
     "data": {
      "text/html": [
       "<div>\n",
       "<style scoped>\n",
       "    .dataframe tbody tr th:only-of-type {\n",
       "        vertical-align: middle;\n",
       "    }\n",
       "\n",
       "    .dataframe tbody tr th {\n",
       "        vertical-align: top;\n",
       "    }\n",
       "\n",
       "    .dataframe thead th {\n",
       "        text-align: right;\n",
       "    }\n",
       "</style>\n",
       "<table border=\"1\" class=\"dataframe\">\n",
       "  <thead>\n",
       "    <tr style=\"text-align: right;\">\n",
       "      <th></th>\n",
       "      <th>lat</th>\n",
       "      <th>lng</th>\n",
       "      <th>Max Temp</th>\n",
       "      <th>Humidity</th>\n",
       "      <th>Cloudiness</th>\n",
       "      <th>Wind Speed</th>\n",
       "      <th>Date</th>\n",
       "    </tr>\n",
       "  </thead>\n",
       "  <tbody>\n",
       "    <tr>\n",
       "      <th>count</th>\n",
       "      <td>568.000000</td>\n",
       "      <td>568.000000</td>\n",
       "      <td>568.000000</td>\n",
       "      <td>568.000000</td>\n",
       "      <td>568.000000</td>\n",
       "      <td>568.000000</td>\n",
       "      <td>5.680000e+02</td>\n",
       "    </tr>\n",
       "    <tr>\n",
       "      <th>mean</th>\n",
       "      <td>20.083452</td>\n",
       "      <td>14.882301</td>\n",
       "      <td>61.954560</td>\n",
       "      <td>67.734155</td>\n",
       "      <td>54.042254</td>\n",
       "      <td>7.786725</td>\n",
       "      <td>1.619903e+09</td>\n",
       "    </tr>\n",
       "    <tr>\n",
       "      <th>std</th>\n",
       "      <td>33.261647</td>\n",
       "      <td>89.780099</td>\n",
       "      <td>19.065146</td>\n",
       "      <td>22.969378</td>\n",
       "      <td>38.833316</td>\n",
       "      <td>5.335502</td>\n",
       "      <td>9.163417e+01</td>\n",
       "    </tr>\n",
       "    <tr>\n",
       "      <th>min</th>\n",
       "      <td>-54.800000</td>\n",
       "      <td>-175.200000</td>\n",
       "      <td>10.540000</td>\n",
       "      <td>4.000000</td>\n",
       "      <td>0.000000</td>\n",
       "      <td>0.090000</td>\n",
       "      <td>1.619902e+09</td>\n",
       "    </tr>\n",
       "    <tr>\n",
       "      <th>25%</th>\n",
       "      <td>-6.848625</td>\n",
       "      <td>-63.923750</td>\n",
       "      <td>48.200000</td>\n",
       "      <td>55.750000</td>\n",
       "      <td>14.750000</td>\n",
       "      <td>3.520000</td>\n",
       "      <td>1.619903e+09</td>\n",
       "    </tr>\n",
       "    <tr>\n",
       "      <th>50%</th>\n",
       "      <td>26.154450</td>\n",
       "      <td>16.943450</td>\n",
       "      <td>64.990000</td>\n",
       "      <td>73.000000</td>\n",
       "      <td>62.000000</td>\n",
       "      <td>6.910000</td>\n",
       "      <td>1.619903e+09</td>\n",
       "    </tr>\n",
       "    <tr>\n",
       "      <th>75%</th>\n",
       "      <td>47.716625</td>\n",
       "      <td>91.441125</td>\n",
       "      <td>78.010000</td>\n",
       "      <td>86.000000</td>\n",
       "      <td>92.250000</td>\n",
       "      <td>10.360000</td>\n",
       "      <td>1.619903e+09</td>\n",
       "    </tr>\n",
       "    <tr>\n",
       "      <th>max</th>\n",
       "      <td>78.218600</td>\n",
       "      <td>178.416700</td>\n",
       "      <td>98.580000</td>\n",
       "      <td>100.000000</td>\n",
       "      <td>100.000000</td>\n",
       "      <td>36.820000</td>\n",
       "      <td>1.619903e+09</td>\n",
       "    </tr>\n",
       "  </tbody>\n",
       "</table>\n",
       "</div>"
      ],
      "text/plain": [
       "              lat         lng    Max Temp    Humidity  Cloudiness  Wind Speed  \\\n",
       "count  568.000000  568.000000  568.000000  568.000000  568.000000  568.000000   \n",
       "mean    20.083452   14.882301   61.954560   67.734155   54.042254    7.786725   \n",
       "std     33.261647   89.780099   19.065146   22.969378   38.833316    5.335502   \n",
       "min    -54.800000 -175.200000   10.540000    4.000000    0.000000    0.090000   \n",
       "25%     -6.848625  -63.923750   48.200000   55.750000   14.750000    3.520000   \n",
       "50%     26.154450   16.943450   64.990000   73.000000   62.000000    6.910000   \n",
       "75%     47.716625   91.441125   78.010000   86.000000   92.250000   10.360000   \n",
       "max     78.218600  178.416700   98.580000  100.000000  100.000000   36.820000   \n",
       "\n",
       "               Date  \n",
       "count  5.680000e+02  \n",
       "mean   1.619903e+09  \n",
       "std    9.163417e+01  \n",
       "min    1.619902e+09  \n",
       "25%    1.619903e+09  \n",
       "50%    1.619903e+09  \n",
       "75%    1.619903e+09  \n",
       "max    1.619903e+09  "
      ]
     },
     "execution_count": 17,
     "metadata": {},
     "output_type": "execute_result"
    }
   ],
   "source": [
    "city_df.describe()"
   ]
  },
  {
   "cell_type": "markdown",
   "metadata": {},
   "source": [
    "## Inspect the data and remove the cities where the humidity > 100%.\n",
    "----\n",
    "Skip this step if there are no cities that have humidity > 100%. "
   ]
  },
  {
   "cell_type": "code",
   "execution_count": 20,
   "metadata": {},
   "outputs": [
    {
     "data": {
      "text/html": [
       "<div>\n",
       "<style scoped>\n",
       "    .dataframe tbody tr th:only-of-type {\n",
       "        vertical-align: middle;\n",
       "    }\n",
       "\n",
       "    .dataframe tbody tr th {\n",
       "        vertical-align: top;\n",
       "    }\n",
       "\n",
       "    .dataframe thead th {\n",
       "        text-align: right;\n",
       "    }\n",
       "</style>\n",
       "<table border=\"1\" class=\"dataframe\">\n",
       "  <thead>\n",
       "    <tr style=\"text-align: right;\">\n",
       "      <th></th>\n",
       "      <th>city</th>\n",
       "      <th>lat</th>\n",
       "      <th>lng</th>\n",
       "      <th>Max Temp</th>\n",
       "      <th>Humidity</th>\n",
       "      <th>Cloudiness</th>\n",
       "      <th>Wind Speed</th>\n",
       "      <th>Country</th>\n",
       "      <th>Date</th>\n",
       "    </tr>\n",
       "  </thead>\n",
       "  <tbody>\n",
       "  </tbody>\n",
       "</table>\n",
       "</div>"
      ],
      "text/plain": [
       "Empty DataFrame\n",
       "Columns: [city, lat, lng, Max Temp, Humidity, Cloudiness, Wind Speed, Country, Date]\n",
       "Index: []"
      ]
     },
     "execution_count": 20,
     "metadata": {},
     "output_type": "execute_result"
    }
   ],
   "source": [
    "test = city_df[city_df[\"Humidity\"]>100]\n",
    "test"
   ]
  },
  {
   "cell_type": "code",
   "execution_count": 19,
   "metadata": {},
   "outputs": [
    {
     "data": {
      "text/html": [
       "<div>\n",
       "<style scoped>\n",
       "    .dataframe tbody tr th:only-of-type {\n",
       "        vertical-align: middle;\n",
       "    }\n",
       "\n",
       "    .dataframe tbody tr th {\n",
       "        vertical-align: top;\n",
       "    }\n",
       "\n",
       "    .dataframe thead th {\n",
       "        text-align: right;\n",
       "    }\n",
       "</style>\n",
       "<table border=\"1\" class=\"dataframe\">\n",
       "  <thead>\n",
       "    <tr style=\"text-align: right;\">\n",
       "      <th></th>\n",
       "      <th>City</th>\n",
       "      <th>Lat</th>\n",
       "      <th>Lng</th>\n",
       "      <th>Max Temp</th>\n",
       "      <th>Humidity</th>\n",
       "      <th>Cloudiness</th>\n",
       "      <th>Wind Speed</th>\n",
       "      <th>Country</th>\n",
       "      <th>Date</th>\n",
       "    </tr>\n",
       "  </thead>\n",
       "  <tbody>\n",
       "    <tr>\n",
       "      <td>0</td>\n",
       "      <td>butaritari</td>\n",
       "      <td>3.07</td>\n",
       "      <td>172.79</td>\n",
       "      <td>83.32</td>\n",
       "      <td>74</td>\n",
       "      <td>84</td>\n",
       "      <td>10.42</td>\n",
       "      <td>KI</td>\n",
       "      <td>1593605283</td>\n",
       "    </tr>\n",
       "    <tr>\n",
       "      <td>1</td>\n",
       "      <td>yerbogachen</td>\n",
       "      <td>61.28</td>\n",
       "      <td>108.01</td>\n",
       "      <td>79.52</td>\n",
       "      <td>58</td>\n",
       "      <td>20</td>\n",
       "      <td>7.70</td>\n",
       "      <td>RU</td>\n",
       "      <td>1593605121</td>\n",
       "    </tr>\n",
       "    <tr>\n",
       "      <td>2</td>\n",
       "      <td>cape town</td>\n",
       "      <td>-33.93</td>\n",
       "      <td>18.42</td>\n",
       "      <td>73.00</td>\n",
       "      <td>77</td>\n",
       "      <td>27</td>\n",
       "      <td>4.70</td>\n",
       "      <td>ZA</td>\n",
       "      <td>1593605039</td>\n",
       "    </tr>\n",
       "    <tr>\n",
       "      <td>3</td>\n",
       "      <td>touba</td>\n",
       "      <td>8.28</td>\n",
       "      <td>-7.68</td>\n",
       "      <td>79.97</td>\n",
       "      <td>75</td>\n",
       "      <td>82</td>\n",
       "      <td>3.58</td>\n",
       "      <td>CI</td>\n",
       "      <td>1593605284</td>\n",
       "    </tr>\n",
       "    <tr>\n",
       "      <td>4</td>\n",
       "      <td>jamestown</td>\n",
       "      <td>42.10</td>\n",
       "      <td>-79.24</td>\n",
       "      <td>64.00</td>\n",
       "      <td>88</td>\n",
       "      <td>1</td>\n",
       "      <td>6.93</td>\n",
       "      <td>US</td>\n",
       "      <td>1593605284</td>\n",
       "    </tr>\n",
       "  </tbody>\n",
       "</table>\n",
       "</div>"
      ],
      "text/plain": [
       "          City    Lat     Lng  Max Temp  Humidity  Cloudiness  Wind Speed  \\\n",
       "0   butaritari   3.07  172.79     83.32        74          84       10.42   \n",
       "1  yerbogachen  61.28  108.01     79.52        58          20        7.70   \n",
       "2    cape town -33.93   18.42     73.00        77          27        4.70   \n",
       "3        touba   8.28   -7.68     79.97        75          82        3.58   \n",
       "4    jamestown  42.10  -79.24     64.00        88           1        6.93   \n",
       "\n",
       "  Country        Date  \n",
       "0      KI  1593605283  \n",
       "1      RU  1593605121  \n",
       "2      ZA  1593605039  \n",
       "3      CI  1593605284  \n",
       "4      US  1593605284  "
      ]
     },
     "execution_count": 19,
     "metadata": {},
     "output_type": "execute_result"
    }
   ],
   "source": [
    "# Make a new DataFrame equal to the city data to drop all humidity outliers by index.\n",
    "# Passing \"inplace=False\" will make a copy of the city_data DataFrame, which we call \"clean_city_data\".\n"
   ]
  },
  {
   "cell_type": "code",
   "execution_count": null,
   "metadata": {},
   "outputs": [],
   "source": [
    "\n"
   ]
  },
  {
   "cell_type": "markdown",
   "metadata": {},
   "source": [
    "## Plotting the Data\n",
    "* Use proper labeling of the plots using plot titles (including date of analysis) and axes labels.\n",
    "* Save the plotted figures as .pngs."
   ]
  },
  {
   "cell_type": "markdown",
   "metadata": {},
   "source": [
    "## Latitude vs. Temperature Plot"
   ]
  },
  {
   "cell_type": "code",
   "execution_count": 24,
   "metadata": {
    "scrolled": true
   },
   "outputs": [
    {
     "data": {
      "image/png": "[encoded data removed]",
      "text/plain": [
       "<Figure size 432x288 with 1 Axes>"
      ]
     },
     "metadata": {
      "needs_background": "light"
     },
     "output_type": "display_data"
    }
   ],
   "source": [
    "city_df.plot.scatter(x=\"lat\",y=\"Max Temp\", edgecolor = \"black\", label = \"cities\")\n",
    "plt.grid(True)\n",
    "plt.savefig(\"lat v temp.png\")\n",
    "plt.show()"
   ]
  },
  {
   "cell_type": "markdown",
   "metadata": {},
   "source": [
    "## Latitude vs. Humidity Plot"
   ]
  },
  {
   "cell_type": "code",
   "execution_count": 25,
   "metadata": {},
   "outputs": [
    {
     "data": {
      "image/png": "[encoded data removed]",
      "text/plain": [
       "<Figure size 432x288 with 1 Axes>"
      ]
     },
     "metadata": {
      "needs_background": "light"
     },
     "output_type": "display_data"
    }
   ],
   "source": [
    "city_df.plot.scatter(x=\"lat\",y=\"Humidity\", edgecolor = \"black\", label = \"cities\")\n",
    "plt.grid(True)\n",
    "plt.savefig(\"lat v temp.png\")\n",
    "plt.show()"
   ]
  },
  {
   "cell_type": "markdown",
   "metadata": {},
   "source": [
    "## Latitude vs. Cloudiness Plot"
   ]
  },
  {
   "cell_type": "code",
   "execution_count": 26,
   "metadata": {},
   "outputs": [
    {
     "data": {
      "image/png": "[encoded data removed]",
      "text/plain": [
       "<Figure size 432x288 with 1 Axes>"
      ]
     },
     "metadata": {
      "needs_background": "light"
     },
     "output_type": "display_data"
    }
   ],
   "source": [
    "city_df.plot.scatter(x=\"lat\",y=\"Cloudiness\", edgecolor = \"black\", label = \"cities\")\n",
    "plt.grid(True)\n",
    "plt.savefig(\"lat v temp.png\")\n",
    "plt.show()"
   ]
  },
  {
   "cell_type": "markdown",
   "metadata": {},
   "source": [
    "## Latitude vs. Wind Speed Plot"
   ]
  },
  {
   "cell_type": "code",
   "execution_count": 27,
   "metadata": {},
   "outputs": [
    {
     "data": {
      "image/png": "[encoded data removed]",
      "text/plain": [
       "<Figure size 432x288 with 1 Axes>"
      ]
     },
     "metadata": {
      "needs_background": "light"
     },
     "output_type": "display_data"
    }
   ],
   "source": [
    "city_df.plot.scatter(x=\"lat\",y=\"Wind Speed\", edgecolor = \"black\", label = \"cities\")\n",
    "plt.grid(True)\n",
    "plt.savefig(\"lat v temp.png\")\n",
    "plt.show()"
   ]
  },
  {
   "cell_type": "markdown",
   "metadata": {},
   "source": [
    "## Linear Regression"
   ]
  },
  {
   "cell_type": "code",
   "execution_count": 91,
   "metadata": {},
   "outputs": [],
   "source": [
    "n_df = city_df.loc[city_df[\"lat\"]>=0]\n",
    "s_df = city_df.loc[city_df[\"lat\"]<0]"
   ]
  },
  {
   "cell_type": "markdown",
   "metadata": {},
   "source": [
    "####  Northern Hemisphere - Max Temp vs. Latitude Linear Regression"
   ]
  },
  {
   "cell_type": "code",
   "execution_count": 92,
   "metadata": {},
   "outputs": [
    {
     "name": "stdout",
     "output_type": "stream",
     "text": [
      "0      36.959815\n",
      "2      58.955031\n",
      "3      64.720309\n",
      "5      29.231350\n",
      "6      28.018393\n",
      "         ...    \n",
      "560    65.838660\n",
      "563    54.638987\n",
      "564    65.082570\n",
      "565    95.231646\n",
      "566    36.027273\n",
      "Name: lat, Length: 384, dtype: float64\n"
     ]
    }
   ],
   "source": [
    "x_values = n_df['lat']\n",
    "y_values = n_df['Max Temp']\n",
    "\n",
    "(slope, intercept, rvalue, pvalue, stderr) = stats.linregress(x_values, y_values)\n",
    "\n",
    "regress_values = x_values * slope + intercept\n",
    "print(regress_values)"
   ]
  },
  {
   "cell_type": "code",
   "execution_count": 93,
   "metadata": {},
   "outputs": [
    {
     "name": "stdout",
     "output_type": "stream",
     "text": [
      "y = -0.95x +95.99\n"
     ]
    }
   ],
   "source": [
    "line_eq = \"y = \" + str(round(slope,2)) + \"x +\" + str(round(intercept,2))\n",
    "print(line_eq)"
   ]
  },
  {
   "cell_type": "code",
   "execution_count": 94,
   "metadata": {},
   "outputs": [
    {
     "name": "stdout",
     "output_type": "stream",
     "text": [
      "The r-value is: 0.7661836838982102\n"
     ]
    },
    {
     "data": {
      "image/png": "[encoded data removed]",
      "text/plain": [
       "<Figure size 432x288 with 1 Axes>"
      ]
     },
     "metadata": {
      "needs_background": "light"
     },
     "output_type": "display_data"
    }
   ],
   "source": [
    "# Create Plot\n",
    "plt.scatter(x_values,y_values)\n",
    "plt.plot(x_values,regress_values,\"r-\")\n",
    "\n",
    "# Label plot and annotate the line equation\n",
    "plt.xlabel('Latitude')\n",
    "plt.ylabel('Max Temperature')\n",
    "plt.annotate(line_eq,(20,15),fontsize=15,color=\"red\")\n",
    "\n",
    "# Print r value\n",
    "print(f\"The r-value is: {rvalue**2}\")\n",
    "\n",
    "# Show plot\n",
    "plt.show()"
   ]
  },
  {
   "cell_type": "markdown",
   "metadata": {},
   "source": [
    "####  Southern Hemisphere - Max Temp vs. Latitude Linear Regression"
   ]
  },
  {
   "cell_type": "code",
   "execution_count": 95,
   "metadata": {},
   "outputs": [
    {
     "name": "stdout",
     "output_type": "stream",
     "text": [
      "1      54.835279\n",
      "4      74.505099\n",
      "8      59.470505\n",
      "9      76.991939\n",
      "10     66.361727\n",
      "         ...    \n",
      "558    67.911145\n",
      "559    76.106727\n",
      "561    77.774619\n",
      "562    68.593403\n",
      "567    58.722848\n",
      "Name: lat, Length: 184, dtype: float64\n"
     ]
    }
   ],
   "source": [
    "x_val = s_df['lat']\n",
    "y_val = s_df['Max Temp']\n",
    "\n",
    "(slope, intercept, rvalue, pvalue, stderr) = stats.linregress(x_val, y_val)\n",
    "\n",
    "regress_value = x_val * slope + intercept\n",
    "print(regress_value)"
   ]
  },
  {
   "cell_type": "code",
   "execution_count": 96,
   "metadata": {},
   "outputs": [
    {
     "name": "stdout",
     "output_type": "stream",
     "text": [
      "y = 0.54x +79.8\n"
     ]
    }
   ],
   "source": [
    "line_eq = \"y = \" + str(round(slope,2)) + \"x +\" + str(round(intercept,2))\n",
    "print(line_eq)"
   ]
  },
  {
   "cell_type": "code",
   "execution_count": 97,
   "metadata": {},
   "outputs": [
    {
     "name": "stdout",
     "output_type": "stream",
     "text": [
      "The r-value is: 0.46676903093349936\n"
     ]
    },
    {
     "data": {
      "image/png": "[encoded data removed]",
      "text/plain": [
       "<Figure size 432x288 with 1 Axes>"
      ]
     },
     "metadata": {
      "needs_background": "light"
     },
     "output_type": "display_data"
    }
   ],
   "source": [
    "# Create Plot\n",
    "plt.scatter(x_val,y_val)\n",
    "plt.plot(x_val,regress_value,\"r-\")\n",
    "\n",
    "# Label plot and annotate the line equation\n",
    "plt.xlabel('Latitude')\n",
    "plt.ylabel('Temperature')\n",
    "plt.annotate(line_eq,(120,115),fontsize=15,color=\"red\")\n",
    "\n",
    "# Print r value\n",
    "print(f\"The r-value is: {rvalue**2}\")\n",
    "\n",
    "# Show plot\n",
    "plt.show()"
   ]
  },
  {
   "cell_type": "markdown",
   "metadata": {},
   "source": [
    "####  Northern Hemisphere - Humidity (%) vs. Latitude Linear Regression"
   ]
  },
  {
   "cell_type": "code",
   "execution_count": 98,
   "metadata": {},
   "outputs": [
    {
     "name": "stdout",
     "output_type": "stream",
     "text": [
      "0      69.863193\n",
      "2      64.469326\n",
      "3      63.055512\n",
      "5      71.758438\n",
      "6      72.055891\n",
      "         ...    \n",
      "560    62.781259\n",
      "563    65.527745\n",
      "564    62.966674\n",
      "565    55.573243\n",
      "566    70.091880\n",
      "Name: lat, Length: 384, dtype: float64\n"
     ]
    }
   ],
   "source": [
    "x_v= n_df['lat']\n",
    "y_v = n_df['Humidity']\n",
    "\n",
    "(slope, intercept, rvalue, pvalue, stderr) = stats.linregress(x_v, y_v)\n",
    "\n",
    "regress_values = x_v * slope + intercept\n",
    "print(regress_values)"
   ]
  },
  {
   "cell_type": "code",
   "execution_count": 99,
   "metadata": {},
   "outputs": [
    {
     "name": "stdout",
     "output_type": "stream",
     "text": [
      "y = 0.23x +55.39\n"
     ]
    }
   ],
   "source": [
    "line_eq = \"y = \" + str(round(slope,2)) + \"x +\" + str(round(intercept,2))\n",
    "print(line_eq)"
   ]
  },
  {
   "cell_type": "code",
   "execution_count": 100,
   "metadata": {},
   "outputs": [
    {
     "name": "stdout",
     "output_type": "stream",
     "text": [
      "The r-value is: 0.0351352517383069\n"
     ]
    },
    {
     "data": {
      "image/png": "[encoded data removed]",
      "text/plain": [
       "<Figure size 432x288 with 1 Axes>"
      ]
     },
     "metadata": {
      "needs_background": "light"
     },
     "output_type": "display_data"
    }
   ],
   "source": [
    "# Create Plot\n",
    "plt.scatter(x_v,y_v)\n",
    "plt.plot(x_v,regress_values,\"r-\")\n",
    "\n",
    "# Label plot and annotate the line equation\n",
    "plt.xlabel('Latitude')\n",
    "plt.ylabel('Humidity')\n",
    "plt.annotate(line_eq,(120,115),fontsize=15,color=\"red\")\n",
    "\n",
    "# Print r value\n",
    "print(f\"The r-value is: {rvalue**2}\")\n",
    "\n",
    "# Show plot\n",
    "plt.show()"
   ]
  },
  {
   "cell_type": "markdown",
   "metadata": {},
   "source": [
    "####  Southern Hemisphere - Humidity (%) vs. Latitude Linear Regression"
   ]
  },
  {
   "cell_type": "code",
   "execution_count": 101,
   "metadata": {},
   "outputs": [
    {
     "name": "stdout",
     "output_type": "stream",
     "text": [
      "1      62.840149\n",
      "4      79.149969\n",
      "8      66.683585\n",
      "9      81.212006\n",
      "10     72.397649\n",
      "         ...    \n",
      "558    73.682394\n",
      "559    80.478007\n",
      "561    81.860990\n",
      "562    74.248109\n",
      "567    66.063643\n",
      "Name: lat, Length: 184, dtype: float64\n"
     ]
    }
   ],
   "source": [
    "x_vs= s_df['lat']\n",
    "y_vs = s_df['Humidity']\n",
    "\n",
    "(slope, intercept, rvalue, pvalue, stderr) = stats.linregress(x_vs, y_vs)\n",
    "\n",
    "regress_values = x_vs * slope + intercept\n",
    "print(regress_values)"
   ]
  },
  {
   "cell_type": "code",
   "execution_count": 102,
   "metadata": {},
   "outputs": [
    {
     "name": "stdout",
     "output_type": "stream",
     "text": [
      "y = 0.45x +83.54\n"
     ]
    }
   ],
   "source": [
    "line_eq = \"y = \" + str(round(slope,2)) + \"x +\" + str(round(intercept,2))\n",
    "print(line_eq)"
   ]
  },
  {
   "cell_type": "code",
   "execution_count": 103,
   "metadata": {},
   "outputs": [
    {
     "name": "stdout",
     "output_type": "stream",
     "text": [
      "The r-value is: 0.11139385129786436\n"
     ]
    },
    {
     "data": {
      "image/png": "[encoded data removed]",
      "text/plain": [
       "<Figure size 432x288 with 1 Axes>"
      ]
     },
     "metadata": {
      "needs_background": "light"
     },
     "output_type": "display_data"
    }
   ],
   "source": [
    "# Create Plot\n",
    "plt.scatter(x_vs,y_vs)\n",
    "plt.plot(x_vs,regress_values,\"r-\")\n",
    "\n",
    "# Label plot and annotate the line equation\n",
    "plt.xlabel('Latitude')\n",
    "plt.ylabel('Humidity')\n",
    "plt.annotate(line_eq,(120,115),fontsize=15,color=\"red\")\n",
    "\n",
    "# Print r value\n",
    "print(f\"The r-value is: {rvalue**2}\")\n",
    "\n",
    "# Show plot\n",
    "plt.show()"
   ]
  },
  {
   "cell_type": "markdown",
   "metadata": {},
   "source": [
    "####  Northern Hemisphere - Cloudiness (%) vs. Latitude Linear Regression"
   ]
  },
  {
   "cell_type": "code",
   "execution_count": 104,
   "metadata": {},
   "outputs": [
    {
     "name": "stdout",
     "output_type": "stream",
     "text": [
      "0      61.695389\n",
      "2      55.081748\n",
      "3      53.348213\n",
      "5      64.019226\n",
      "6      64.383945\n",
      "         ...    \n",
      "560    53.011941\n",
      "563    56.379520\n",
      "564    53.239287\n",
      "565    44.173899\n",
      "566    61.975791\n",
      "Name: lat, Length: 384, dtype: float64\n"
     ]
    }
   ],
   "source": [
    "x = n_df['lat']\n",
    "y = n_df['Cloudiness']\n",
    "\n",
    "(slope, intercept, rvalue, pvalue, stderr) = stats.linregress(x, y)\n",
    "\n",
    "regress_values = x * slope + intercept\n",
    "print(regress_values)"
   ]
  },
  {
   "cell_type": "code",
   "execution_count": 105,
   "metadata": {},
   "outputs": [
    {
     "name": "stdout",
     "output_type": "stream",
     "text": [
      "y = 0.28x +43.95\n"
     ]
    }
   ],
   "source": [
    "line_eq = \"y = \" + str(round(slope,2)) + \"x +\" + str(round(intercept,2))\n",
    "print(line_eq)"
   ]
  },
  {
   "cell_type": "code",
   "execution_count": 106,
   "metadata": {},
   "outputs": [
    {
     "name": "stdout",
     "output_type": "stream",
     "text": [
      "The r-value is: 0.020456427412143784\n"
     ]
    },
    {
     "data": {
      "image/png": "[encoded data removed]",
      "text/plain": [
       "<Figure size 432x288 with 1 Axes>"
      ]
     },
     "metadata": {
      "needs_background": "light"
     },
     "output_type": "display_data"
    }
   ],
   "source": [
    "# Create Plot\n",
    "plt.scatter(x,y)\n",
    "plt.plot(x,regress_values,\"r-\")\n",
    "\n",
    "# Label plot and annotate the line equation\n",
    "plt.xlabel('Latitude')\n",
    "plt.ylabel('Cloudiness')\n",
    "plt.annotate(line_eq,(120,115),fontsize=15,color=\"red\")\n",
    "\n",
    "# Print r value\n",
    "print(f\"The r-value is: {rvalue**2}\")\n",
    "\n",
    "# Show plot\n",
    "plt.show()"
   ]
  },
  {
   "cell_type": "markdown",
   "metadata": {},
   "source": [
    "####  Southern Hemisphere - Cloudiness (%) vs. Latitude Linear Regression"
   ]
  },
  {
   "cell_type": "code",
   "execution_count": 109,
   "metadata": {},
   "outputs": [
    {
     "name": "stdout",
     "output_type": "stream",
     "text": [
      "1      31.950073\n",
      "4      59.798494\n",
      "8      38.512600\n",
      "9      63.319347\n",
      "10     48.269154\n",
      "         ...    \n",
      "558    50.462810\n",
      "559    62.066070\n",
      "561    64.427462\n",
      "562    51.428747\n",
      "567    37.454071\n",
      "Name: lat, Length: 184, dtype: float64\n"
     ]
    }
   ],
   "source": [
    "x_map = s_df['lat']\n",
    "y_map = s_df['Cloudiness']\n",
    "\n",
    "(slope, intercept, rvalue, pvalue, stderr) = stats.linregress(x_map, y_map)\n",
    "\n",
    "regress_values = x_map * slope + intercept\n",
    "print(regress_values)"
   ]
  },
  {
   "cell_type": "code",
   "execution_count": 110,
   "metadata": {},
   "outputs": [
    {
     "name": "stdout",
     "output_type": "stream",
     "text": [
      "y = 0.77x +67.3\n"
     ]
    }
   ],
   "source": [
    "line_eq = \"y = \" + str(round(slope,2)) + \"x +\" + str(round(intercept,2))\n",
    "print(line_eq)"
   ]
  },
  {
   "cell_type": "code",
   "execution_count": 111,
   "metadata": {},
   "outputs": [
    {
     "name": "stdout",
     "output_type": "stream",
     "text": [
      "The r-value is: 0.07355716500169766\n"
     ]
    },
    {
     "data": {
      "image/png": "[encoded data removed]",
      "text/plain": [
       "<Figure size 432x288 with 1 Axes>"
      ]
     },
     "metadata": {
      "needs_background": "light"
     },
     "output_type": "display_data"
    }
   ],
   "source": [
    "# Create Plot\n",
    "plt.scatter(x_map,y_map)\n",
    "plt.plot(x_map,regress_values,\"r-\")\n",
    "\n",
    "# Label plot and annotate the line equation\n",
    "plt.xlabel('Latitude')\n",
    "plt.ylabel('Cloudiness')\n",
    "plt.annotate(line_eq,(120,115),fontsize=15,color=\"red\")\n",
    "\n",
    "# Print r value\n",
    "print(f\"The r-value is: {rvalue**2}\")\n",
    "\n",
    "# Show plot\n",
    "plt.show()"
   ]
  },
  {
   "cell_type": "markdown",
   "metadata": {},
   "source": [
    "####  Northern Hemisphere - Wind Speed (mph) vs. Latitude Linear Regression"
   ]
  },
  {
   "cell_type": "code",
   "execution_count": 113,
   "metadata": {},
   "outputs": [
    {
     "name": "stdout",
     "output_type": "stream",
     "text": [
      "0      8.720870\n",
      "2      8.500618\n",
      "3      8.442887\n",
      "5      8.798260\n",
      "6      8.810406\n",
      "         ...   \n",
      "560    8.431688\n",
      "563    8.543837\n",
      "564    8.439259\n",
      "565    8.137358\n",
      "566    8.730208\n",
      "Name: lat, Length: 384, dtype: float64\n"
     ]
    }
   ],
   "source": [
    "x_maps = n_df['lat']\n",
    "y_maps = n_df['Wind Speed']\n",
    "\n",
    "(slope, intercept, rvalue, pvalue, stderr) = stats.linregress(x_maps, y_maps)\n",
    "\n",
    "regress_values = x_maps * slope + intercept\n",
    "print(regress_values)"
   ]
  },
  {
   "cell_type": "code",
   "execution_count": 114,
   "metadata": {},
   "outputs": [
    {
     "name": "stdout",
     "output_type": "stream",
     "text": [
      "y = 0.01x +8.13\n"
     ]
    }
   ],
   "source": [
    "line_eq = \"y = \" + str(round(slope,2)) + \"x +\" + str(round(intercept,2))\n",
    "print(line_eq)"
   ]
  },
  {
   "cell_type": "code",
   "execution_count": 115,
   "metadata": {},
   "outputs": [
    {
     "name": "stdout",
     "output_type": "stream",
     "text": [
      "The r-value is: 0.0011103695118007413\n"
     ]
    },
    {
     "data": {
      "image/png": "[encoded data removed]",
      "text/plain": [
       "<Figure size 432x288 with 1 Axes>"
      ]
     },
     "metadata": {
      "needs_background": "light"
     },
     "output_type": "display_data"
    }
   ],
   "source": [
    "# Create Plot\n",
    "plt.scatter(x_maps,y_maps)\n",
    "plt.plot(x_maps,regress_values,\"r-\")\n",
    "\n",
    "# Label plot and annotate the line equation\n",
    "plt.xlabel('Latitude')\n",
    "plt.ylabel('Wind Speed')\n",
    "plt.annotate(line_eq,(120,115),fontsize=15,color=\"red\")\n",
    "\n",
    "# Print r value\n",
    "print(f\"The r-value is: {rvalue**2}\")\n",
    "\n",
    "# Show plot\n",
    "plt.show()"
   ]
  },
  {
   "cell_type": "markdown",
   "metadata": {},
   "source": [
    "####  Southern Hemisphere - Wind Speed (mph) vs. Latitude Linear Regression"
   ]
  },
  {
   "cell_type": "code",
   "execution_count": 116,
   "metadata": {},
   "outputs": [
    {
     "name": "stdout",
     "output_type": "stream",
     "text": [
      "1      7.292163\n",
      "4      5.880748\n",
      "8      6.959561\n",
      "9      5.702304\n",
      "10     6.465079\n",
      "         ...   \n",
      "558    6.353900\n",
      "559    5.765823\n",
      "561    5.646142\n",
      "562    6.304944\n",
      "567    7.013209\n",
      "Name: lat, Length: 184, dtype: float64\n"
     ]
    }
   ],
   "source": [
    "x_mapplot = s_df['lat']\n",
    "y_mapplot = s_df['Wind Speed']\n",
    "\n",
    "(slope, intercept, rvalue, pvalue, stderr) = stats.linregress(x_mapplot, y_mapplot)\n",
    "\n",
    "regress_values = x_mapplot * slope + intercept\n",
    "print(regress_values)"
   ]
  },
  {
   "cell_type": "code",
   "execution_count": 118,
   "metadata": {},
   "outputs": [
    {
     "name": "stdout",
     "output_type": "stream",
     "text": [
      "y = -0.04x +5.5\n"
     ]
    }
   ],
   "source": [
    "line_eq = \"y = \" + str(round(slope,2)) + \"x +\" + str(round(intercept,2))\n",
    "print(line_eq)"
   ]
  },
  {
   "cell_type": "code",
   "execution_count": 119,
   "metadata": {},
   "outputs": [
    {
     "name": "stdout",
     "output_type": "stream",
     "text": [
      "The r-value is: 0.014115379276834834\n"
     ]
    },
    {
     "data": {
      "image/png": "[encoded data removed]",
      "text/plain": [
       "<Figure size 432x288 with 1 Axes>"
      ]
     },
     "metadata": {
      "needs_background": "light"
     },
     "output_type": "display_data"
    }
   ],
   "source": [
    "# Create Plot\n",
    "plt.scatter(x_mapplot,y_mapplot)\n",
    "plt.plot(x_mapplot,regress_values,\"r-\")\n",
    "\n",
    "# Label plot and annotate the line equation\n",
    "plt.xlabel('Latitude')\n",
    "plt.ylabel('Wind Speed')\n",
    "plt.annotate(line_eq,(120,115),fontsize=15,color=\"red\")\n",
    "\n",
    "# Print r value\n",
    "print(f\"The r-value is: {rvalue**2}\")\n",
    "\n",
    "# Show plot\n",
    "plt.show()"
   ]
  },
  {
   "cell_type": "code",
   "execution_count": null,
   "metadata": {},
   "outputs": [],
   "source": []
  }
 ],
 "metadata": {
  "anaconda-cloud": {},
  "kernel_info": {
   "name": "python3"
  },
  "kernelspec": {
   "display_name": "Python 3",
   "language": "python",
   "name": "python3"
  },
  "language_info": {
   "codemirror_mode": {
    "name": "ipython",
    "version": 3
   },
   "file_extension": ".py",
   "mimetype": "text/x-python",
   "name": "python",
   "nbconvert_exporter": "python",
   "pygments_lexer": "ipython3",
   "version": "3.8.5"
  },
  "latex_envs": {
   "LaTeX_envs_menu_present": true,
   "autoclose": false,
   "autocomplete": true,
   "bibliofile": "biblio.bib",
   "cite_by": "apalike",
   "current_citInitial": 1,
   "eqLabelWithNumbers": true,
   "eqNumInitial": 1,
   "hotkeys": {
    "equation": "Ctrl-E",
    "itemize": "Ctrl-I"
   },
   "labels_anchors": false,
   "latex_user_defs": false,
   "report_style_numbering": false,
   "user_envs_cfg": false
  },
  "nteract": {
   "version": "0.12.3"
  }
 },
 "nbformat": 4,
 "nbformat_minor": 2
}
